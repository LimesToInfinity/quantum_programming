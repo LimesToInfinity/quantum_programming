{
 "cells": [
  {
   "cell_type": "markdown",
   "id": "e7f54497-ff42-4b52-8fe4-39a7a9dff614",
   "metadata": {},
   "source": [
    "# Bernstein-Vazirani Algorithm"
   ]
  },
  {
   "cell_type": "markdown",
   "id": "544d8a74-3341-40b9-91f0-e6ec1f23272b",
   "metadata": {},
   "source": [
    "## Problem Definition:"
   ]
  },
  {
   "cell_type": "markdown",
   "id": "1a20b639-9a9a-4fea-b881-b8f9f4e8b1f7",
   "metadata": {},
   "source": [
    "Given a Boolean function f:{0,1}^n -> {0,1}, there is always a way to write this function as the scalar product\n",
    "<s,x>, where s is an unknown bitstring. We assume just as in Grover's algorithm, that there is an oracle, which can compute this function. The Bernstein-Vazirani (BV) algorithm then finds the hidden bitstring s with only one application of the oracle."
   ]
  },
  {
   "cell_type": "markdown",
   "id": "3f40181f-9ab4-4daa-b46f-f6b89d8f5fab",
   "metadata": {},
   "source": [
    "## Create the circuit"
   ]
  },
  {
   "cell_type": "markdown",
   "id": "034a6294-7568-45d0-84a5-944c6e6cee9f",
   "metadata": {},
   "source": [
    "### Define the circuit structure."
   ]
  },
  {
   "cell_type": "code",
   "execution_count": 31,
   "id": "ba2894d0-6ad9-4300-8eb8-17cc3ebca57e",
   "metadata": {},
   "outputs": [],
   "source": [
    "# Import standard packages\n",
    "import numpy as np\n",
    "from qiskit import QuantumCircuit, QuantumRegister, ClassicalRegister\n",
    "\n",
    "# Create circuit.\n",
    "qr = QuantumRegister(size=2, name='q')\n",
    "anc = QuantumRegister(size=1, name='ancilla')\n",
    "cr = ClassicalRegister(size=2, name='c')\n",
    "qc = QuantumCircuit(qr, anc, c, name=\"Bernstein-Vazirani\")"
   ]
  },
  {
   "cell_type": "markdown",
   "id": "0c7f9df4-e2b9-42ce-b39c-78cf938b2030",
   "metadata": {},
   "source": [
    "### Initialize the qubits."
   ]
  },
  {
   "cell_type": "code",
   "execution_count": 32,
   "id": "01f9297d-25d3-4ab7-b987-597423ff18f1",
   "metadata": {},
   "outputs": [
    {
     "data": {
      "text/html": [
       "<pre style=\"word-wrap: normal;white-space: pre;background: #fff0;line-height: 1.1;font-family: &quot;Courier New&quot;,Courier,monospace\">         ┌───┐     \n",
       "    q_0: ┤ H ├─────\n",
       "         ├───┤     \n",
       "    q_1: ┤ H ├─────\n",
       "         ├───┤┌───┐\n",
       "ancilla: ┤ X ├┤ H ├\n",
       "         └───┘└───┘\n",
       "    c: 2/══════════\n",
       "                   </pre>"
      ],
      "text/plain": [
       "         ┌───┐     \n",
       "    q_0: ┤ H ├─────\n",
       "         ├───┤     \n",
       "    q_1: ┤ H ├─────\n",
       "         ├───┤┌───┐\n",
       "ancilla: ┤ X ├┤ H ├\n",
       "         └───┘└───┘\n",
       "    c: 2/══════════\n",
       "                   "
      ]
     },
     "execution_count": 32,
     "metadata": {},
     "output_type": "execute_result"
    }
   ],
   "source": [
    "# Initialize the qubits.\n",
    "qc.h(qr[0:2])\n",
    "qc.x(anc[0])\n",
    "qc.h(anc[0])\n",
    "qc.draw()"
   ]
  },
  {
   "cell_type": "markdown",
   "id": "fb555901-7626-4cfe-8510-3a9fdef9904d",
   "metadata": {},
   "source": [
    "### Apply the oracle and finish the circuit\n",
    "We choose a XOR-Gate (2 CNOT-Gates) as our oracle.\n",
    "Therefore we are looking for s = |11>"
   ]
  },
  {
   "cell_type": "code",
   "execution_count": 36,
   "id": "472184e0-6132-41cb-b97a-1bc7c0baee07",
   "metadata": {},
   "outputs": [
    {
     "data": {
      "text/plain": [
       "<qiskit.circuit.instructionset.InstructionSet at 0x7f53d8d82e90>"
      ]
     },
     "execution_count": 36,
     "metadata": {},
     "output_type": "execute_result"
    }
   ],
   "source": [
    "# Add 2 CNOT-Gates to our circuit.\n",
    "qc.cx(qr[0], anc[0])\n",
    "qc.cx(qr[1], anc[0])\n",
    "\n",
    "# Apply the Hadamard-Gates to the qubits again.\n",
    "qc.h(qr[0:2])\n",
    "\n",
    "# Measure the qubits.\n",
    "qc.measure(qr[0:2], cr[0:2])"
   ]
  },
  {
   "cell_type": "code",
   "execution_count": 37,
   "id": "964da13a-327f-4a48-9de4-3604d1681ff6",
   "metadata": {},
   "outputs": [
    {
     "data": {
      "text/html": [
       "<pre style=\"word-wrap: normal;white-space: pre;background: #fff0;line-height: 1.1;font-family: &quot;Courier New&quot;,Courier,monospace\">         ┌───┐          ┌───┐     ┌─┐   \n",
       "    q_0: ┤ H ├───────■──┤ H ├─────┤M├───\n",
       "         ├───┤       │  └───┘┌───┐└╥┘┌─┐\n",
       "    q_1: ┤ H ├───────┼────■──┤ H ├─╫─┤M├\n",
       "         ├───┤┌───┐┌─┴─┐┌─┴─┐└───┘ ║ └╥┘\n",
       "ancilla: ┤ X ├┤ H ├┤ X ├┤ X ├──────╫──╫─\n",
       "         └───┘└───┘└───┘└───┘      ║  ║ \n",
       "    c: 2/══════════════════════════╩══╩═\n",
       "                                   0  1 </pre>"
      ],
      "text/plain": [
       "         ┌───┐          ┌───┐     ┌─┐   \n",
       "    q_0: ┤ H ├───────■──┤ H ├─────┤M├───\n",
       "         ├───┤       │  └───┘┌───┐└╥┘┌─┐\n",
       "    q_1: ┤ H ├───────┼────■──┤ H ├─╫─┤M├\n",
       "         ├───┤┌───┐┌─┴─┐┌─┴─┐└───┘ ║ └╥┘\n",
       "ancilla: ┤ X ├┤ H ├┤ X ├┤ X ├──────╫──╫─\n",
       "         └───┘└───┘└───┘└───┘      ║  ║ \n",
       "    c: 2/══════════════════════════╩══╩═\n",
       "                                   0  1 "
      ]
     },
     "execution_count": 37,
     "metadata": {},
     "output_type": "execute_result"
    }
   ],
   "source": [
    "qc.draw()"
   ]
  },
  {
   "cell_type": "markdown",
   "id": "8755f14f-29c8-4442-bf88-501d6a6a5db7",
   "metadata": {},
   "source": [
    "## Simulate the circuit. "
   ]
  },
  {
   "cell_type": "code",
   "execution_count": 39,
   "id": "85cb0d0d-755d-4852-b80f-5de10a5e6af1",
   "metadata": {},
   "outputs": [
    {
     "name": "stdout",
     "output_type": "stream",
     "text": [
      "{'11': 1024}\n"
     ]
    }
   ],
   "source": [
    "from qiskit_aer import AerSimulator\n",
    "from qiskit.visualization import plot_histogram\n",
    "from qiskit import transpile\n",
    "from qiskit.primitives import StatevectorSampler\n",
    "\n",
    "# Create simulator.\n",
    "simulator = AerSimulator()\n",
    "\n",
    "\n",
    "# Transpile circuit for simulator.\n",
    "trans_circ = transpile(qc, simulator)\n",
    "\n",
    "# Execute circuit.\n",
    "result = simulator.run(trans_circ).result()\n",
    "#result = StatevectorSampler().run([qc]).result()\n",
    "\n",
    "# Count results.\n",
    "counts = result.get_counts(trans_circ)\n",
    "\n",
    "#print(\"\\n Totalcount for states:\", result[0].data.c.get_counts())\n",
    "\n",
    "print(counts)"
   ]
  }
 ],
 "metadata": {
  "kernelspec": {
   "display_name": "Python 3 (ipykernel)",
   "language": "python",
   "name": "python3"
  },
  "language_info": {
   "codemirror_mode": {
    "name": "ipython",
    "version": 3
   },
   "file_extension": ".py",
   "mimetype": "text/x-python",
   "name": "python",
   "nbconvert_exporter": "python",
   "pygments_lexer": "ipython3",
   "version": "3.12.7"
  }
 },
 "nbformat": 4,
 "nbformat_minor": 5
}
