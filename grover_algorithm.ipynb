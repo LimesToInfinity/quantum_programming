{
 "cells": [
  {
   "cell_type": "markdown",
   "id": "1d76ea6f-7641-4fc3-965e-987e6b801dbf",
   "metadata": {},
   "source": [
    "# Grover Algorithm"
   ]
  },
  {
   "cell_type": "code",
   "execution_count": 1,
   "id": "2d6a4906-cbc6-474f-a692-62884dfb859a",
   "metadata": {},
   "outputs": [
    {
     "name": "stdout",
     "output_type": "stream",
     "text": [
      "\n",
      " Totalcount for states: {'11': 1024}\n"
     ]
    },
    {
     "data": {
      "text/html": [
       "<pre style=\"word-wrap: normal;white-space: pre;background: #fff0;line-height: 1.1;font-family: &quot;Courier New&quot;,Courier,monospace\">global phase: π\n",
       "      ┌─────────┐                 ┌───┐┌───┐          ┌───┐┌───┐     ┌─┐   \n",
       "q_0: ─┤ U2(0,π) ├──────────────■──┤ H ├┤ X ├───────■──┤ X ├┤ H ├─────┤M├───\n",
       "      ├─────────┤              │  ├───┤├───┤┌───┐┌─┴─┐├───┤├───┤┌───┐└╥┘┌─┐\n",
       "q_1: ─┤ U2(0,π) ├──────────────■──┤ H ├┤ X ├┤ H ├┤ X ├┤ H ├┤ X ├┤ H ├─╫─┤M├\n",
       "     ┌┴─────────┴┐┌─────────┐┌─┴─┐└───┘└───┘└───┘└───┘└───┘└───┘└───┘ ║ └╥┘\n",
       "q_2: ┤ U3(π,0,π) ├┤ U2(0,π) ├┤ X ├────────────────────────────────────╫──╫─\n",
       "     └───────────┘└─────────┘└───┘                                    ║  ║ \n",
       "c: 2/═════════════════════════════════════════════════════════════════╩══╩═\n",
       "                                                                      0  1 </pre>"
      ],
      "text/plain": [
       "global phase: π\n",
       "      ┌─────────┐                 ┌───┐┌───┐          ┌───┐┌───┐     ┌─┐   \n",
       "q_0: ─┤ U2(0,π) ├──────────────■──┤ H ├┤ X ├───────■──┤ X ├┤ H ├─────┤M├───\n",
       "      ├─────────┤              │  ├───┤├───┤┌───┐┌─┴─┐├───┤├───┤┌───┐└╥┘┌─┐\n",
       "q_1: ─┤ U2(0,π) ├──────────────■──┤ H ├┤ X ├┤ H ├┤ X ├┤ H ├┤ X ├┤ H ├─╫─┤M├\n",
       "     ┌┴─────────┴┐┌─────────┐┌─┴─┐└───┘└───┘└───┘└───┘└───┘└───┘└───┘ ║ └╥┘\n",
       "q_2: ┤ U3(π,0,π) ├┤ U2(0,π) ├┤ X ├────────────────────────────────────╫──╫─\n",
       "     └───────────┘└─────────┘└───┘                                    ║  ║ \n",
       "c: 2/═════════════════════════════════════════════════════════════════╩══╩═\n",
       "                                                                      0  1 "
      ]
     },
     "execution_count": 1,
     "metadata": {},
     "output_type": "execute_result"
    }
   ],
   "source": [
    "# Import standard packages\n",
    "import numpy as np\n",
    "from qiskit import QuantumCircuit, transpile\n",
    "\n",
    "# Import the GroverOperator\n",
    "from qiskit.circuit.library import GroverOperator\n",
    "from qiskit.primitives import StatevectorSampler\n",
    "\n",
    "# Assume that our oracle is a simple \"AND\"-gate (Toffoli gate)\n",
    "qc = QuantumCircuit(3,2)\n",
    "\n",
    "# Prepare the 2 non-accillary qubits in a bell state\n",
    "# and the 3rd one.\n",
    "qc.h(0)\n",
    "qc.h(1)\n",
    "qc.x(2)\n",
    "qc.h(2)\n",
    "\n",
    "# Create the oracle.\n",
    "oracle = QuantumCircuit(3)\n",
    "oracle.ccx(0,1,2)\n",
    "\n",
    "# Apply the Grover Operator.\n",
    "# Only the reflection_qubits are the qubits, to which the\n",
    "# Diffusion Operator will be applied.\n",
    "qc = qc.compose(GroverOperator(oracle, reflection_qubits=[0,1]))\n",
    "\n",
    "# Measure the 2 non-acillary bits and write the results\n",
    "# to the classical bits.\n",
    "qc.measure([0,1], [0,1])\n",
    "\n",
    "# Run the circuit on the StatevectorSampler.\n",
    "result = StatevectorSampler().run([qc]).result()\n",
    "\n",
    "# Show the results.\n",
    "counts = result\n",
    "print(\"\\n Totalcount for states:\", result[0].data.c.get_counts())\n",
    "\n",
    "# Draw the circuit.\n",
    "go = GroverOperator(oracle)\n",
    "qc.decompose().draw()"
   ]
  }
 ],
 "metadata": {
  "kernelspec": {
   "display_name": "Python 3 (ipykernel)",
   "language": "python",
   "name": "python3"
  },
  "language_info": {
   "codemirror_mode": {
    "name": "ipython",
    "version": 3
   },
   "file_extension": ".py",
   "mimetype": "text/x-python",
   "name": "python",
   "nbconvert_exporter": "python",
   "pygments_lexer": "ipython3",
   "version": "3.12.7"
  }
 },
 "nbformat": 4,
 "nbformat_minor": 5
}
